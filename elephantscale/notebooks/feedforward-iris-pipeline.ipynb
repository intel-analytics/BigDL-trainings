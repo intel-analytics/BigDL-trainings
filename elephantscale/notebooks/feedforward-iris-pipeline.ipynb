{
 "cells": [
  {
   "cell_type": "markdown",
   "metadata": {},
   "source": [
    "# Feedforward Neural Network on the Iris Dataset Using Pipeline API\n",
    "\n",
    "This notebook shows how to do the iris classification on the Spark mllib dataframe-based pipeline API (as opposed to the RDD API).  For introduction, first see the feedforward-iris.ipynb.\n",
    "\n",
    "### Fisher's Iris dataset  \n",
    "\n",
    "We are going to try the same Iris dataset as on feedforward-iris.ipynb, but this time using\n",
    "Spark MLLib's Pipeline-based API.\n",
    "\n",
    "This dataset contains 150 samples, with 4 dimensions, as follows:\n",
    "\n",
    "1. Petal Length  (c1)\n",
    "2. Petal Width   (c2)\n",
    "3. Sepal Length  (c3)\n",
    "4. Sepal Width   (c4)\n",
    "\n",
    "There are 3 output classes: Setosa, Versicolor, and Virginica.\n",
    "In our output datset, we have simplified this data by making classes simply 1, 2, 3.\n",
    "\n",
    "Here's an example of what the dataset looks like\n",
    "\n",
    "| c1  | c2  | c3  | c4  | label | \n",
    "|-----|-----|-----|-----|-------| \n",
    "| 6.4 | 2.8 | 5.6 | 2.2 | 3     | \n",
    "| 5.0 | 2.3 | 3.3 | 1.0 | 2     | \n",
    "| 4.9 | 2.5 | 4.5 | 1.7 | 3     | \n",
    "| 4.9 | 3.1 | 1.5 | 0.1 | 1     | \n",
    "| 5.7 | 3.8 | 1.7 | 0.3 | 1     | \n",
    "| 4.4 | 3.2 | 1.3 | 0.2 | 1     | \n",
    "| 5.4 | 3.4 | 1.5 | 0.4 | 1     | \n",
    "| 6.9 | 3.1 | 5.1 | 2.3 | 3     | \n",
    "| 6.7 | 3.1 | 4.4 | 1.4 | 2     | \n",
    "\n"
   ]
  },
  {
   "cell_type": "code",
   "execution_count": 1,
   "metadata": {
    "collapsed": true
   },
   "outputs": [],
   "source": [
    "%matplotlib inline\n",
    "import pandas as pd\n",
    "import datetime as dt\n",
    "import matplotlib.pyplot as plt\n",
    "import numpy as np\n",
    "from sklearn.metrics import confusion_matrix\n",
    "from sklearn.metrics import accuracy_score\n",
    "import seaborn as sn\n",
    "import pandas as pd\n",
    "import random as rd\n",
    "import datetime as dt \n",
    "\n",
    "\n",
    "\n",
    "from bigdl.dataset.transformer import *\n",
    "from bigdl.dataset.base import *\n",
    "from bigdl.nn.layer import *\n",
    "from bigdl.nn.criterion import *\n",
    "from bigdl.optim.optimizer import *\n",
    "from bigdl.util.common import *\n",
    "from utils import *\n",
    "from bigdl.models.ml_pipeline.dl_classifier import *\n",
    "\n",
    "from pyspark.sql.types import DoubleType\n",
    "from pyspark.sql.functions import col, udf\n",
    "from pyspark.ml import  Pipeline\n",
    "from pyspark.ml.feature import VectorAssembler, StandardScaler\n",
    "from pyspark.ml.evaluation import BinaryClassificationEvaluator, MulticlassClassificationEvaluator\n",
    "\n",
    "\n",
    "init_engine()"
   ]
  },
  {
   "cell_type": "markdown",
   "metadata": {},
   "source": [
    "## Parameters\n",
    "\n",
    "These are parameters that can be changed:\n",
    "\n",
    "Explanation:\n",
    "\n",
    "1. Learning Rate:  This indicates the \"step size\" of the gradient descent-type optimization functions. The larger the step size, the less of a chance of getting caught in a local minimum but too large may lead to very poor results.\n",
    "\n",
    "2. Training Epochs: the number of cycles of training that we use.\n",
    "\n",
    "3. Batch size: The size of the batch (with replacement) that we take per training iteration.\n",
    "\n",
    "4. N_input: Number of input dimensions\n",
    "\n",
    "5. N_Classes: Number of output classes for classification problem.\n",
    "\n",
    "6. N_Hidden_1: Number of hidden layer neurons."
   ]
  },
  {
   "cell_type": "code",
   "execution_count": 2,
   "metadata": {
    "collapsed": true
   },
   "outputs": [],
   "source": [
    "learning_rate = 0.01\n",
    "training_epochs = 100\n",
    "batch_size = 16\n",
    "display_step = 1\n",
    "\n",
    "# Network Parameters\n",
    "n_input = 4\n",
    "n_classes = 3\n",
    "n_hidden = 3 # 1st layer number of features\n"
   ]
  },
  {
   "cell_type": "markdown",
   "metadata": {},
   "source": [
    "### Sizing the Hidden Layer(s)\n",
    "\n",
    "Sizing hidden layers can be a challenge.  The best way to figure this out is to do it\n",
    "empirically.  However, we may need a \"rule of thumb\" to start.  Here is a good rule of thumb:\n",
    "\n",
    "First Hidden Layer:\n",
    "```\n",
    "n_hidden_1 = np.sqrt(np.sqrt((n_classes + 2) * n_input) + 2 * np.sqrt(n_input /(n_classes+2.)))\n",
    "```\n",
    "\n",
    "Second Hidden Layer:  (if needed)\n",
    "```\n",
    "n_hidden_2 = n_classes * np.sqrt(n_input / (n_classes + 2.))\n",
    "```\n",
    "\n",
    "In this case, we have a **VERY** simple dataset.  We may not need two hidden layers. Let's see what we have.\n"
   ]
  },
  {
   "cell_type": "code",
   "execution_count": 3,
   "metadata": {},
   "outputs": [
    {
     "name": "stdout",
     "output_type": "stream",
     "text": [
      "Hidden layer 1 (Guess) : 2.50219710195\n",
      "Hidden layer 2 (Guess) : 2.683281573\n"
     ]
    }
   ],
   "source": [
    "# Number of hidden layers\n",
    "\n",
    "n_hidden_guess = np.sqrt(np.sqrt((n_classes + 2) * n_input) + 2 * np.sqrt(n_input /(n_classes+2.)))\n",
    "print(\"Hidden layer 1 (Guess) : \" + str(n_hidden_guess))\n",
    "\n",
    "n_hidden_guess_2 = n_classes * np.sqrt(n_input / (n_classes + 2.))\n",
    "print(\"Hidden layer 2 (Guess) : \" + str(n_hidden_guess_2))\n",
    "\n"
   ]
  },
  {
   "cell_type": "markdown",
   "metadata": {},
   "source": [
    "## Result\n",
    "\n",
    "Each hidden layer should around 2-3 input neurons."
   ]
  },
  {
   "cell_type": "markdown",
   "metadata": {},
   "source": [
    "np.sqrt(np.sqrt((n_classes+2) * n_input) + 2 * np.sqrt(n_input /(n_classes+2)))\n",
    "#and in the second hidden layer, the optimal number of hidden nodes is: m*sqrt[N/(m+2)],\n",
    "n_classes * np.sqrt(n_input / (n_classes + 2.))\n"
   ]
  },
  {
   "cell_type": "markdown",
   "metadata": {},
   "source": [
    "## Load the Data\n",
    "\n",
    "Let's load the data into Spark Dataframes, and we'll cast everything to be double."
   ]
  },
  {
   "cell_type": "code",
   "execution_count": 4,
   "metadata": {
    "collapsed": true
   },
   "outputs": [],
   "source": [
    "iris_training = spark.read.csv(\"../data/iris/iris_training.csv\", header=True, inferSchema=\"true\", mode=\"DROPMALFORMED\")\n",
    "iris_test = spark.read.csv(\"../data/iris/iris_test.csv\", header=True, inferSchema=\"true\", mode=\"DROPMALFORMED\")"
   ]
  },
  {
   "cell_type": "code",
   "execution_count": 5,
   "metadata": {
    "collapsed": true
   },
   "outputs": [],
   "source": [
    "iris_training = iris_training.select([col(c).cast(\"double\") for c in iris_training.columns])\n",
    "iris_test = iris_test.select([col(c).cast(\"double\") for c in iris_test.columns])\n",
    "\n"
   ]
  },
  {
   "cell_type": "markdown",
   "metadata": {},
   "source": [
    "## Setting up a Spark MLlib pipeline\n",
    "\n",
    "We will use a Spark MLLib pipeline to do two things:\n",
    "\n",
    "1. Extract a feature vector into a new column called \"assembled\" (using VectorAssembler).\n",
    "2. Use StandardScaler to scale the vector values by mean and unit variance."
   ]
  },
  {
   "cell_type": "code",
   "execution_count": 6,
   "metadata": {
    "collapsed": true
   },
   "outputs": [],
   "source": [
    "assembler =  VectorAssembler(inputCols=['c1','c2','c3','c4'], outputCol=\"assembled\")\n",
    "scaler = StandardScaler(inputCol=\"assembled\", outputCol=\"features\")\n",
    "pipeline = Pipeline(stages = [assembler, scaler])\n",
    "pipelineTraining = pipeline.fit(iris_training)\n",
    "iris_data_training = pipelineTraining.transform(iris_training)\n",
    "pipelineTest = pipeline.fit(iris_test)\n",
    "iris_data_test = pipelineTraining.transform(iris_test)"
   ]
  },
  {
   "cell_type": "code",
   "execution_count": 28,
   "metadata": {
    "scrolled": true
   },
   "outputs": [
    {
     "name": "stdout",
     "output_type": "stream",
     "text": [
      "+----------------------------------------------------------------------------+-----+\n",
      "|features                                                                    |label|\n",
      "+----------------------------------------------------------------------------+-----+\n",
      "|[7.3683612551017434,6.554983394668502,3.07337626655598,2.813157930275381]   |3.0  |\n",
      "|[5.7565322305482365,5.384450645620555,1.8110967285062027,1.2787081501251731]|2.0  |\n",
      "|[5.641401585937273,5.8526637452397345,2.469677357053913,2.1738038552127943] |3.0  |\n",
      "|[5.641401585937273,7.257303044097271,0.8232257856846377,0.12787081501251732]|1.0  |\n",
      "|[6.56244674282499,8.896048892764396,0.9329892237759226,0.38361244503755193] |1.0  |\n",
      "|[5.065748362882449,7.491409593906861,0.7134623475933526,0.25574163002503464]|1.0  |\n",
      "|[6.2170548089920965,7.959622693526039,0.8232257856846377,0.5114832600500693]|1.0  |\n",
      "|[7.944014478156568,7.257303044097271,2.798967671327768,2.941028745287898]   |3.0  |\n",
      "|[7.713753188934637,7.257303044097271,2.4147956380082705,1.7901914101752423] |2.0  |\n",
      "|[5.871662875159201,8.661942342954807,0.8232257856846377,0.5114832600500693] |1.0  |\n",
      "+----------------------------------------------------------------------------+-----+\n",
      "only showing top 10 rows\n",
      "\n"
     ]
    }
   ],
   "source": [
    "iris_data_training.select('features', 'label').show(10, False)"
   ]
  },
  {
   "cell_type": "markdown",
   "metadata": {},
   "source": [
    "### Use the Pipeline API to set up neural network classifier\n",
    "\n",
    "We will now use the Pipeline API to set up a neural network classifier. The parameters and results are very similar to the previous example, but this time around we are using the pipeline API.\n",
    "\n",
    "This is totally integrated with our existing Spark ML workflows!  "
   ]
  },
  {
   "cell_type": "code",
   "execution_count": 29,
   "metadata": {
    "scrolled": true
   },
   "outputs": [
    {
     "name": "stdout",
     "output_type": "stream",
     "text": [
      "creating: createSequential\n",
      "creating: createLinear\n",
      "creating: createLinear\n",
      "creating: createLogSoftMax\n",
      "creating: createClassNLLCriterion\n",
      "creating: createDLClassifier\n",
      "\n",
      "initial model training finished.\n"
     ]
    }
   ],
   "source": [
    "\n",
    "bigDLModel = Sequential().add(Linear(n_input, n_hidden)).add(Linear(n_hidden, n_classes)).add(LogSoftMax())\n",
    "classnll_criterion = ClassNLLCriterion()\n",
    "dlClassifier = DLClassifier(model=bigDLModel, criterion=classnll_criterion, feature_size=[n_input])\n",
    "dlClassifier.setLabelCol(\"label\").setMaxEpoch(training_epochs).setBatchSize(16).setLearningRate(learning_rate)\n",
    "model = dlClassifier.fit(iris_data_training)\n",
    "print(\"\\ninitial model training finished.\")"
   ]
  },
  {
   "cell_type": "code",
   "execution_count": 30,
   "metadata": {},
   "outputs": [
    {
     "data": {
      "text/plain": [
       "DataFrame[c1: double, c2: double, c3: double, c4: double, label: double, assembled: vector, features: vector, prediction: double]"
      ]
     },
     "execution_count": 30,
     "metadata": {},
     "output_type": "execute_result"
    }
   ],
   "source": [
    "# Coerce the outpu to be a Dataframe object -- return object is a JavaObject by defaul.\n",
    "\n",
    "from pyspark.sql import DataFrame, SQLContext\n",
    "predictionDF = DataFrame(model.transform(iris_data_test), SQLContext(sc))\n",
    "predictionDF"
   ]
  },
  {
   "cell_type": "code",
   "execution_count": 31,
   "metadata": {
    "scrolled": false
   },
   "outputs": [
    {
     "name": "stdout",
     "output_type": "stream",
     "text": [
      "+---+---+---+---+-----+-----------------+--------------------+----------+\n",
      "| c1| c2| c3| c4|label|        assembled|            features|prediction|\n",
      "+---+---+---+---+-----+-----------------+--------------------+----------+\n",
      "|5.9|3.0|4.2|1.5|  2.0|[5.9,3.0,4.2,1.5]|[6.79270803204692...|       2.0|\n",
      "|6.9|3.1|5.4|2.1|  3.0|[6.9,3.1,5.4,2.1]|[7.94401447815656...|       3.0|\n",
      "|5.1|3.3|1.7|0.5|  1.0|[5.1,3.3,1.7,0.5]|[5.87166287515920...|       1.0|\n",
      "|6.0|3.4|4.5|1.6|  2.0|[6.0,3.4,4.5,1.6]|[6.90783867665788...|       2.0|\n",
      "|5.5|2.5|4.0|1.3|  2.0|[5.5,2.5,4.0,1.3]|[6.33218545360306...|       2.0|\n",
      "|6.2|2.9|4.3|1.3|  2.0|[6.2,2.9,4.3,1.3]|[7.13809996587981...|       2.0|\n",
      "|5.5|4.2|1.4|0.2|  1.0|[5.5,4.2,1.4,0.2]|[6.33218545360306...|       1.0|\n",
      "|6.3|2.8|5.1|1.5|  3.0|[6.3,2.8,5.1,1.5]|[7.25323061049077...|       2.0|\n",
      "|5.6|3.0|4.1|1.3|  2.0|[5.6,3.0,4.1,1.3]|[6.44731609821402...|       2.0|\n",
      "|6.7|2.5|5.8|1.8|  3.0|[6.7,2.5,5.8,1.8]|[7.71375318893463...|       3.0|\n",
      "|7.1|3.0|5.9|2.1|  3.0|[7.1,3.0,5.9,2.1]|[8.17427576737849...|       3.0|\n",
      "|4.3|3.0|1.1|0.1|  1.0|[4.3,3.0,1.1,0.1]|[4.95061771827148...|       1.0|\n",
      "|5.6|2.8|4.9|2.0|  3.0|[5.6,2.8,4.9,2.0]|[6.44731609821402...|       3.0|\n",
      "|5.5|2.3|4.0|1.3|  2.0|[5.5,2.3,4.0,1.3]|[6.33218545360306...|       2.0|\n",
      "|6.0|2.2|4.0|1.0|  2.0|[6.0,2.2,4.0,1.0]|[6.90783867665788...|       2.0|\n",
      "|5.1|3.5|1.4|0.2|  1.0|[5.1,3.5,1.4,0.2]|[5.87166287515920...|       1.0|\n",
      "|5.7|2.6|3.5|1.0|  2.0|[5.7,2.6,3.5,1.0]|[6.56244674282499...|       2.0|\n",
      "|4.8|3.4|1.9|0.2|  1.0|[4.8,3.4,1.9,0.2]|[5.52627094132630...|       1.0|\n",
      "|5.1|3.4|1.5|0.2|  1.0|[5.1,3.4,1.5,0.2]|[5.87166287515920...|       1.0|\n",
      "|5.7|2.5|5.0|2.0|  3.0|[5.7,2.5,5.0,2.0]|[6.56244674282499...|       3.0|\n",
      "+---+---+---+---+-----+-----------------+--------------------+----------+\n",
      "only showing top 20 rows\n",
      "\n"
     ]
    }
   ],
   "source": [
    "predictionDF.show()"
   ]
  },
  {
   "cell_type": "markdown",
   "metadata": {},
   "source": [
    "## Evaluate the Model\n",
    "\n",
    "Calculate Precision, Recall and the Area Under the Precision / Recall curve.\n"
   ]
  },
  {
   "cell_type": "code",
   "execution_count": 32,
   "metadata": {
    "scrolled": true
   },
   "outputs": [
    {
     "name": "stdout",
     "output_type": "stream",
     "text": [
      "\n",
      "Area under precision-recall curve: = 1.0\n",
      "\n",
      "recall = 0.933333333333\n",
      "\n",
      "Precision = 0.933333333333\n"
     ]
    },
    {
     "data": {
      "text/plain": [
       "DataFrame[c1: double, c2: double, c3: double, c4: double, label: double, assembled: vector, features: vector, prediction: double]"
      ]
     },
     "execution_count": 32,
     "metadata": {},
     "output_type": "execute_result"
    }
   ],
   "source": [
    "predictionDF.cache()\n",
    "evaluator = BinaryClassificationEvaluator(rawPredictionCol=\"prediction\")\n",
    "auPRC = evaluator.evaluate(predictionDF)\n",
    "print(\"\\nArea under precision-recall curve: = \" + str(auPRC))\n",
    "    \n",
    "recall = MulticlassClassificationEvaluator(metricName=\"weightedRecall\").evaluate(predictionDF)\n",
    "print(\"\\nrecall = \" + str(recall))\n",
    "\n",
    "precision = MulticlassClassificationEvaluator(metricName=\"weightedPrecision\").evaluate(predictionDF)\n",
    "print(\"\\nPrecision = \" + str(precision))\n",
    "predictionDF.unpersist()"
   ]
  },
  {
   "cell_type": "markdown",
   "metadata": {},
   "source": [
    "## More evaluations: Accuracy and Confusion Matrix\n",
    "\n",
    "Use predict on the validation dataset, and then calcualte the accuracy and the\n",
    "confusion matrix."
   ]
  },
  {
   "cell_type": "code",
   "execution_count": 33,
   "metadata": {
    "collapsed": true
   },
   "outputs": [],
   "source": [
    "y_pred = np.array(predictionDF.select('prediction').collect())\n",
    "y_true = np.array(predictionDF.select('label').collect())"
   ]
  },
  {
   "cell_type": "code",
   "execution_count": 34,
   "metadata": {
    "scrolled": true
   },
   "outputs": [
    {
     "name": "stdout",
     "output_type": "stream",
     "text": [
      "The prediction accuracy is 93.33%\n"
     ]
    },
    {
     "data": {
      "image/png": "[encoded data removed]",
      "text/plain": [
       "<matplotlib.figure.Figure at 0x7fd80cec6750>"
      ]
     },
     "metadata": {},
     "output_type": "display_data"
    }
   ],
   "source": [
    "acc = accuracy_score(y_true, y_pred)\n",
    "print(\"The prediction accuracy is %.2f%%\"%(acc*100))\n",
    "\n",
    "cm = confusion_matrix(y_true, y_pred)\n",
    "cm.shape\n",
    "df_cm = pd.DataFrame(cm)\n",
    "plt.figure(figsize = (10,8))\n",
    "sn.heatmap(df_cm, annot=True,fmt='d');"
   ]
  },
  {
   "cell_type": "code",
   "execution_count": null,
   "metadata": {
    "collapsed": true
   },
   "outputs": [],
   "source": []
  }
 ],
 "metadata": {
  "kernelspec": {
   "display_name": "Python 3",
   "language": "python",
   "name": "python3"
  },
  "language_info": {
   "codemirror_mode": {
    "name": "ipython",
    "version": 3
   },
   "file_extension": ".py",
   "mimetype": "text/x-python",
   "name": "python",
   "nbconvert_exporter": "python",
   "pygments_lexer": "ipython3",
   "version": "3.5.4"
  }
 },
 "nbformat": 4,
 "nbformat_minor": 2
}
