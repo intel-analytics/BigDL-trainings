{
 "cells": [
  {
   "cell_type": "markdown",
   "metadata": {},
   "source": [
    "# LSTM Stock Market Example\n",
    "\n",
    "Wouldn't you like to predict the stock market?  (Don't try this at home).  Here's an example of how we can use LSTMs to predict patterns in the S&P 500.\n",
    "\n",
    "What is an LSTM?  An LSTM (Long Short Term Memory) is a recurrent neural network that will help us to predict patterns in time-series data."
   ]
  },
  {
   "cell_type": "code",
   "execution_count": 3,
   "metadata": {
    "collapsed": true
   },
   "outputs": [],
   "source": [
    "\n",
    "from bigdl.nn.layer import *\n",
    "from bigdl.nn.criterion import * \n",
    "from bigdl.optim.optimizer import *\n",
    "from bigdl.util.common import *\n",
    "from bigdl.dataset.transformer import *\n",
    "from bigdl.dataset import mnist\n",
    "from bigdl.dataset.base import *\n",
    "from bigdl.util.common import *\n",
    "\n",
    "import numpy as np\n",
    "from numpy import newaxis\n",
    "import lstm, time #helper libraries"
   ]
  },
  {
   "cell_type": "code",
   "execution_count": 3,
   "metadata": {
    "collapsed": true
   },
   "outputs": [],
   "source": [
    "learning_rate = 0.1\n",
    "training_epochs = 100\n",
    "batch_size = 10\n",
    "init_engine()"
   ]
  },
  {
   "cell_type": "markdown",
   "metadata": {},
   "source": [
    "## Loading the Data\n",
    "\n",
    "We are loading the S&P 500 Data. It is simply a sequence of the s&P 500 per line. For example\n",
    "\n",
    "```\n",
    "1095.23\n",
    "1100.53\n",
    "1103.74\n",
    "```"
   ]
  },
  {
   "cell_type": "code",
   "execution_count": 8,
   "metadata": {
    "collapsed": true
   },
   "outputs": [],
   "source": [
    "#Step 1 Load Data\n",
    "X_train, y_train, X_test, y_test = lstm.load_data('sp500.csv', 50, True)"
   ]
  },
  {
   "cell_type": "code",
   "execution_count": 9,
   "metadata": {
    "collapsed": true
   },
   "outputs": [],
   "source": [
    "X_train_rdd = sc.parallelize(X_train).map(lambda x: x.flatten())\n",
    "y_train_rdd = sc.parallelize(y_train)\n",
    "X_test_rdd = sc.parallelize(X_test).map(lambda x: x.flatten())\n",
    "y_test_rdd = sc.parallelize(y_test)"
   ]
  },
  {
   "cell_type": "code",
   "execution_count": 11,
   "metadata": {
    "collapsed": true
   },
   "outputs": [],
   "source": [
    "x_train_sample = X_train_rdd.zip(y_train_rdd).map(lambda x:Sample.from_ndarray(x[0], x[1]))\n",
    "X_test_sample = X_test_rdd.zip(y_test_rdd).map(lambda x:Sample.from_ndarray(x[0], x[1]))"
   ]
  },
  {
   "cell_type": "markdown",
   "metadata": {},
   "source": [
    "# Building the Model\n",
    "\n",
    "The model is a type of Recurrent Neural Network called an LSTM.\n",
    "\n",
    "It takes an input of 50 (because we are going to use 50 as the sequence), and an ouptut as 1."
   ]
  },
  {
   "cell_type": "code",
   "execution_count": 12,
   "metadata": {
    "scrolled": false
   },
   "outputs": [
    {
     "name": "stdout",
     "output_type": "stream",
     "text": [
      "creating: createSequential\n",
      "creating: createRecurrent\n",
      "creating: createLSTM\n",
      "creating: createInferReshape\n",
      "creating: createSelect\n",
      "creating: createLinear\n"
     ]
    }
   ],
   "source": [
    "def build_model(input_size, hidden_size, output_size):\n",
    "    model = Sequential()\n",
    "    recurrent = Recurrent()\n",
    "    recurrent.add(LSTM(input_size, hidden_size))\n",
    "    model.add(InferReshape([-1, input_size], True))\n",
    "    model.add(recurrent)\n",
    "    model.add(Select(2, -1))\n",
    "    model.add(Linear(hidden_size, output_size))\n",
    "    return model\n",
    "model = build_model(50, 50, 1)"
   ]
  },
  {
   "cell_type": "markdown",
   "metadata": {},
   "source": [
    "# Training The Model\n",
    "\n",
    "Notice that the model is a regression, not a classification model. This is why we are using the MSECriterion. What we are trying to do is predict the next value of the S&P500 given the input sequence of S&P 500 values."
   ]
  },
  {
   "cell_type": "code",
   "execution_count": 20,
   "metadata": {
    "scrolled": true
   },
   "outputs": [
    {
     "name": "stdout",
     "output_type": "stream",
     "text": [
      "creating: createMSECriterion\n",
      "creating: createDefault\n",
      "creating: createSGD\n",
      "creating: createMaxEpoch\n",
      "creating: createOptimizer\n"
     ]
    }
   ],
   "source": [
    "# Create an Optimizer\n",
    "optimizer = Optimizer(\n",
    "    model=model,\n",
    "    training_rdd=x_train_sample,\n",
    "    criterion=MSECriterion(),\n",
    "    optim_method=SGD(learningrate=learning_rate),\n",
    "    end_trigger=MaxEpoch(training_epochs),\n",
    "    batch_size=batch_size)"
   ]
  },
  {
   "cell_type": "markdown",
   "metadata": {},
   "source": [
    "# Making Predictions\n",
    "\n",
    "Here we are going to make predictions based on the model.  We will use sliding windows of length 50.\n",
    "\n",
    "Here's how this works: We're going to Take sequences of length 50, and then use those 50 steps as inputs to the model. Then we will get the output of the model for the next step, and continue on making predictions."
   ]
  },
  {
   "cell_type": "code",
   "execution_count": 43,
   "metadata": {
    "collapsed": true,
    "scrolled": false
   },
   "outputs": [],
   "source": [
    "\n",
    "#Predict sequence of 50 steps before shifting prediction run forward by 50 steps\n",
    "prediction_seqs = []\n",
    "data = X_test\n",
    "prediction_len = 50\n",
    "window_size=50\n",
    "for i in range(len(data)//prediction_len):\n",
    "    curr_frame = data[i*int(prediction_len)]\n",
    "    predicted = []\n",
    "    for j in range(int(prediction_len)):\n",
    "\n",
    "        curr_data = curr_frame[newaxis,:,:]\n",
    "\n",
    "        curr_data_rdd = sc.parallelize(curr_data).map(lambda x: Sample.from_ndarray(x,[0]))\n",
    "\n",
    "        preds = model.predict(curr_data_rdd).collect()[0][0][0]\n",
    "        predicted.append(preds)\n",
    "        curr_frame = curr_frame[1:]\n",
    "        curr_frame = np.insert(curr_frame, [window_size-1], predicted[-1], axis=0)\n",
    "        prediction_seqs.append(predicted)\n",
    "predictions = prediction_seqs"
   ]
  },
  {
   "cell_type": "markdown",
   "metadata": {},
   "source": [
    "# Plots\n",
    "\n",
    "Let us go ahead and plot some of our predictions."
   ]
  },
  {
   "cell_type": "code",
   "execution_count": null,
   "metadata": {
    "collapsed": true,
    "scrolled": false
   },
   "outputs": [],
   "source": [
    "# Step 5 -- Plot predictions\n",
    "\n",
    "lstm.plot_results_multiple(predictions, y_test, 50)"
   ]
  },
  {
   "cell_type": "code",
   "execution_count": null,
   "metadata": {
    "collapsed": true
   },
   "outputs": [],
   "source": []
  }
 ],
 "metadata": {
  "kernelspec": {
   "display_name": "Python 3",
   "language": "python",
   "name": "python3"
  },
  "language_info": {
   "codemirror_mode": {
    "name": "ipython",
    "version": 3
   },
   "file_extension": ".py",
   "mimetype": "text/x-python",
   "name": "python",
   "nbconvert_exporter": "python",
   "pygments_lexer": "ipython3",
   "version": "3.5.4"
  }
 },
 "nbformat": 4,
 "nbformat_minor": 2
}
