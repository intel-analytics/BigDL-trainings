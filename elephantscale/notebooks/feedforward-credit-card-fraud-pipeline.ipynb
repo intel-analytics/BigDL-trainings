{
 "cells": [
  {
   "cell_type": "markdown",
   "metadata": {},
   "source": [
    "# Feedforward Network with Credit Card Fraud (Pipeline API version)\n",
    "\n",
    "Please view the credit-card-fraud example, which will show how to do this in with an RDD-based approach. Here, we will follow the same approach with a dataframe-based pipeline API based on Spark MLLib.\n"
   ]
  },
  {
   "cell_type": "code",
   "execution_count": 36,
   "metadata": {
    "collapsed": true
   },
   "outputs": [],
   "source": [
    "%matplotlib inline\n",
    "import pandas as pd\n",
    "import datetime as dt\n",
    "import matplotlib.pyplot as plt\n",
    "import numpy as np\n",
    "from sklearn.metrics import confusion_matrix\n",
    "from sklearn.metrics import accuracy_score\n",
    "import seaborn as sn\n",
    "import pandas as pd\n",
    "import random as rd\n",
    "import datetime as dt\n",
    "\n",
    "\n",
    "from bigdl.dataset.transformer import *\n",
    "from bigdl.dataset.base import *\n",
    "from bigdl.nn.layer import *\n",
    "from bigdl.nn.criterion import *\n",
    "from bigdl.optim.optimizer import *\n",
    "from bigdl.util.common import *\n",
    "from bigdl.models.ml_pipeline.dl_classifier import *\n",
    "from utils import *\n",
    "\n",
    "from pyspark.sql.functions import col, udf\n",
    "from pyspark.sql.types import DoubleType\n",
    "from pyspark.ml import  Pipeline\n",
    "from pyspark.ml.feature import VectorAssembler, StandardScaler\n",
    "from pyspark.ml.evaluation import BinaryClassificationEvaluator, MulticlassClassificationEvaluator\n",
    "\n",
    "\n",
    "init_engine()"
   ]
  },
  {
   "cell_type": "code",
   "execution_count": 37,
   "metadata": {},
   "outputs": [
    {
     "data": {
      "text/plain": [
       "['V1',\n",
       " 'V2',\n",
       " 'V3',\n",
       " 'V4',\n",
       " 'V5',\n",
       " 'V6',\n",
       " 'V7',\n",
       " 'V8',\n",
       " 'V9',\n",
       " 'V10',\n",
       " 'V11',\n",
       " 'V12',\n",
       " 'V13',\n",
       " 'V14',\n",
       " 'V15',\n",
       " 'V16',\n",
       " 'V17',\n",
       " 'V18',\n",
       " 'V19',\n",
       " 'V20',\n",
       " 'V21',\n",
       " 'V22',\n",
       " 'V23',\n",
       " 'V24',\n",
       " 'V25',\n",
       " 'V26',\n",
       " 'V27',\n",
       " 'V28',\n",
       " 'Amount']"
      ]
     },
     "execution_count": 37,
     "metadata": {},
     "output_type": "execute_result"
    }
   ],
   "source": [
    "learning_rate = 0.1\n",
    "training_epochs = 100\n",
    "batch_size = 10000\n",
    "display_step = 1\n",
    "\n",
    "# Network Parameters\n",
    "n_input = 29\n",
    "n_classes = 2\n",
    "n_hidden_1 = 10 # 1st layer number of features\n",
    "\n",
    "\n",
    "LABELS = [\"Normal\", \"Fraud\"]\n",
    "\n",
    "cols = [\"V\" + str(x) for x in list(range(1,29))] + [\"Amount\"]\n",
    "cols\n"
   ]
  },
  {
   "cell_type": "code",
   "execution_count": 38,
   "metadata": {
    "collapsed": true
   },
   "outputs": [],
   "source": [
    "cc_training = spark.read.csv(\"../data/creditcardfraud/creditcard.csv\", header=True, inferSchema=\"true\", mode=\"DROPMALFORMED\")"
   ]
  },
  {
   "cell_type": "code",
   "execution_count": 39,
   "metadata": {
    "scrolled": true
   },
   "outputs": [
    {
     "name": "stdout",
     "output_type": "stream",
     "text": [
      "+-------+-----------------+--------------------+--------------------+-----------------+-------------------+\n",
      "|summary|             Time|                  V1|                  V2|           Amount|              Class|\n",
      "+-------+-----------------+--------------------+--------------------+-----------------+-------------------+\n",
      "|  count|           284807|              284807|              284807|           284807|             284807|\n",
      "|   mean|       94813.8596|2.260907382386083...|6.067406817137794...|88.34961925095207|   1.00172748563062|\n",
      "| stddev|47488.14595456619|  1.9586958038574867|  1.6513085794769937|250.1201092401879|0.04152718963546483|\n",
      "|    min|                0|    -56.407509631329|   -72.7157275629303|              0.0|                  1|\n",
      "|    max|           172792|    2.45492999121121|    22.0577289904909|         25691.16|                  2|\n",
      "+-------+-----------------+--------------------+--------------------+-----------------+-------------------+\n",
      "\n"
     ]
    }
   ],
   "source": [
    "cc_training.select('Time', 'V1', 'V2', 'Amount', 'Class').describe().show()"
   ]
  },
  {
   "cell_type": "code",
   "execution_count": 40,
   "metadata": {
    "collapsed": true
   },
   "outputs": [],
   "source": [
    "cc_training = cc_training.select([col(c).cast(\"double\") for c in cc_training.columns])\n",
    "cc_training = cc_training.withColumn(\"label\", cc_training[\"Class\"])\n"
   ]
  },
  {
   "cell_type": "markdown",
   "metadata": {},
   "source": [
    "## Dataset Balance\n",
    "\n",
    "Let us see the dataset balance. We suspect a highly unbalanced dataset -- let us visualize. that."
   ]
  },
  {
   "cell_type": "code",
   "execution_count": 41,
   "metadata": {},
   "outputs": [
    {
     "data": {
      "image/png": "[encoded data removed]",
      "text/plain": [
       "<matplotlib.figure.Figure at 0x7fa59354e050>"
      ]
     },
     "metadata": {},
     "output_type": "display_data"
    }
   ],
   "source": [
    "#count_classes = pd.value_counts(df['Class'], sort = True)\n",
    "count_classes = pd.value_counts(cc_training.select('Class').toPandas()['Class'], sort = True)\n",
    "count_classes.plot(kind = 'bar', rot=0)\n",
    "plt.title(\"Transaction class distribution\")\n",
    "plt.xticks(range(2), LABELS)\n",
    "plt.xlabel(\"Class\")\n",
    "plt.ylabel(\"Frequency\");"
   ]
  },
  {
   "cell_type": "code",
   "execution_count": 42,
   "metadata": {
    "collapsed": true
   },
   "outputs": [],
   "source": [
    "# get the time to split the data.\n",
    "splitTime = cc_training.stat.approxQuantile(\"Time\", [0.7], 0.001)[0]\n",
    "\n",
    "trainingData =cc_training.filter(\"Time < \" + str(splitTime))\n",
    "validData = cc_training.filter(\"Time >= \" + str(splitTime))"
   ]
  },
  {
   "cell_type": "markdown",
   "metadata": {},
   "source": [
    "## Feature analysis:\n",
    "Normally it would improve the model if we could derive more features from the raw transaction records. E.g.\n",
    "days to last transaction,\n",
    "distance with last transaction,\n",
    "amount percentage over the last 1 month / 3months\n",
    "...\n",
    "\n",
    "Yet with the public dataset, we can hardly derive any extention features from the PCA result. So here we only introduce several general practices:\n",
    "\n",
    "Usually there's a lot of categorical data in the raw dataset, E.g. post code, card type, merchandise id, seller id, etc. \n",
    "\n",
    "1). For categorical feature with limited candidate values, like card type, channel id, just use OneHotEncoder. \n",
    "\n",
    "2). For categorical feature with many candidate values, like merchandise id, post code or even phone number, suggest to use Weight of Evidence. \n",
    "\n",
    "3). You can also use FeatureHasher from Spark MLlib which will be release with Spark 2.3.\n",
    "For this dataset, essentially it's a classification problem with highly unbalanced data set.\n",
    "\n",
    "## Approach\n",
    "\n",
    "We will build a feature transform pipeline with Apache Spark and some of our transformers.\n",
    "We will run some inital statistical analysis and split the dataset for training and validation.\n",
    "We will build the model with BigDL.\n",
    "We will compare different strategy to handle the unbalance.\n",
    "Details of each step is as follows:\n",
    "\n",
    "### step 1. Build an inital pipeline for feature transform.\n",
    "For each training records, we intend to aggregate all the features into one Spark Vector, which will then be sent to BigDL model for the training. First we'd like to introduce one handy transformer that we developed to help user build custom Transformers for Spark ML Pipeline.\n",
    "```\n",
    "class FuncTransformer (\n",
    "  override val uid: String,\n",
    "  val func: UserDefinedFunction\n",
    ") extends Transformer with HasInputCol with HasOutputCol with DefaultParamsWritable {\n",
    "```\n",
    "FuncTransformer takes an udf as the constructor parameter and use the udf to perform the actual transform. The transformer can be saved/loaded as other transformer and can be integrated into a pipeline normally. It can be used widely in many use cases like conditional conversion(if...else...), , type conversion, to/from Array, to/from Vector and many string ops. Some examples:\n",
    "```\n",
    "val labelConverter = new FuncTransformer(udf { i: Double => if (i >= 1) 1 else 0 })\n",
    "```\n",
    "\n",
    "```\n",
    "val shifter = new FuncTransformer(udf { i: Double => i + 1 })\n",
    "```\n",
    "\n",
    "```\n",
    "val toVector = new FuncTransformer(udf { i: Double => Vectors.dense(i) })\n",
    "```\n",
    "\n",
    "We will use VectorAssembler to compose the all the Vx columns and append the Amount column. Then use StandardScaler to normlize the training records. Since in BigDL, the criterion generally only accepts 1, 2, 3... as the Label, so we will replace all the 0 with 2 in the training data."
   ]
  },
  {
   "cell_type": "code",
   "execution_count": 43,
   "metadata": {
    "collapsed": true
   },
   "outputs": [],
   "source": [
    "assembler =  VectorAssembler(inputCols=cols, outputCol=\"assembled\")\n",
    "scaler = StandardScaler(inputCol=\"assembled\", outputCol=\"features\")\n",
    "pipeline = Pipeline(stages = [assembler, scaler])\n",
    "pipelineTraining = pipeline.fit(trainingData)\n",
    "data_training = pipelineTraining.transform(trainingData)\n",
    "pipelineTest = pipeline.fit(validData)\n",
    "data_test = pipelineTest.transform(validData)"
   ]
  },
  {
   "cell_type": "markdown",
   "metadata": {},
   "source": [
    "## step 2. Build the model with BigDL\n",
    "From the research community and industry feedback, a simple neural network turns out be the perfect candidate for the fraud detection training. We will quickly build a multiple layer Perceptron with linear layers.\n",
    "```\n",
    "    val bigDLModel = Sequential()\n",
    "      .add(Linear(29, 10))\n",
    "      .add(Linear(10, 2))\n",
    "      .add(LogSoftMax())\n",
    "    val criterion = ClassNLLCriterion()\n",
    "```\n",
    "\n",
    "BigDL provides DLEstimator and DLClassifier for users with Apache Spark MLlib experience, which provides high level API for training a BigDL Model with the Apache Spark Estimator/Transfomer pattern, thus users can conveniently fit BigDL into a ML pipeline. The fitted model DLModel and DLClassiferModel contains the trained BigDL model and extends the Spark ML Model class. Alternatively users may also construct a DLModel with a pre-trained BigDL model to use it in Spark ML Pipeline for prediction.\n",
    "\n",
    "DLClassifier is a specialized DLEstimator that simplifies the data format for classification tasks. It only supports label column of DoubleType, and the fitted DLClassifierModel will have the prediction column of DoubleType.\n",
    "\n",
    "For this case we'll just use DLClassifier for the training. Note that users can set differet optimization mothod, batch size and epoch number.\n"
   ]
  },
  {
   "cell_type": "code",
   "execution_count": 44,
   "metadata": {
    "scrolled": true
   },
   "outputs": [
    {
     "name": "stdout",
     "output_type": "stream",
     "text": [
      "creating: createSequential\n",
      "creating: createLinear\n",
      "creating: createLinear\n",
      "creating: createLogSoftMax\n",
      "creating: createClassNLLCriterion\n",
      "creating: createDLClassifier\n",
      "\n",
      "initial model training finished.\n"
     ]
    }
   ],
   "source": [
    "\n",
    "bigDLModel = Sequential().add(Linear(n_input, n_hidden_1)).add(Linear(n_hidden_1, n_classes)).add(LogSoftMax())\n",
    "classnll_criterion = ClassNLLCriterion()\n",
    "dlClassifier = DLClassifier(model=bigDLModel, criterion=classnll_criterion, feature_size=[n_input])\n",
    "dlClassifier.setLabelCol(\"label\").setMaxEpoch(training_epochs).setBatchSize(batch_size)\n",
    "model = dlClassifier.fit(data_training)\n",
    "print(\"\\ninitial model training finished.\")"
   ]
  },
  {
   "cell_type": "code",
   "execution_count": 45,
   "metadata": {},
   "outputs": [
    {
     "data": {
      "text/plain": [
       "DataFrame[Time: double, V1: double, V2: double, V3: double, V4: double, V5: double, V6: double, V7: double, V8: double, V9: double, V10: double, V11: double, V12: double, V13: double, V14: double, V15: double, V16: double, V17: double, V18: double, V19: double, V20: double, V21: double, V22: double, V23: double, V24: double, V25: double, V26: double, V27: double, V28: double, Amount: double, Class: double, label: double, assembled: vector, features: vector, prediction: double]"
      ]
     },
     "execution_count": 45,
     "metadata": {},
     "output_type": "execute_result"
    }
   ],
   "source": [
    "from pyspark.sql import DataFrame, SQLContext\n",
    "predictionDF = DataFrame(model.transform(data_test), SQLContext(sc))\n",
    "predictionDF"
   ]
  },
  {
   "cell_type": "markdown",
   "metadata": {},
   "source": [
    "# Evaluate our Model\n",
    "\n",
    "Now we are goin to do the Precision, Recall, and AUC. To evaluate our model."
   ]
  },
  {
   "cell_type": "code",
   "execution_count": 46,
   "metadata": {},
   "outputs": [
    {
     "name": "stdout",
     "output_type": "stream",
     "text": [
      "\n",
      "Area under precision-recall curve: = 1.0\n",
      "\n",
      "recall = 0.998458934096\n",
      "\n",
      "Precision = 0.998246759394\n"
     ]
    },
    {
     "data": {
      "text/plain": [
       "DataFrame[Time: double, V1: double, V2: double, V3: double, V4: double, V5: double, V6: double, V7: double, V8: double, V9: double, V10: double, V11: double, V12: double, V13: double, V14: double, V15: double, V16: double, V17: double, V18: double, V19: double, V20: double, V21: double, V22: double, V23: double, V24: double, V25: double, V26: double, V27: double, V28: double, Amount: double, Class: double, label: double, assembled: vector, features: vector, prediction: double]"
      ]
     },
     "execution_count": 46,
     "metadata": {},
     "output_type": "execute_result"
    }
   ],
   "source": [
    "predictionDF.cache() \n",
    "evaluator = BinaryClassificationEvaluator(rawPredictionCol=\"prediction\")\n",
    "auPRC = evaluator.evaluate(predictionDF)\n",
    "print(\"\\nArea under precision-recall curve: = \" + str(auPRC))\n",
    "    \n",
    "recall = MulticlassClassificationEvaluator(metricName=\"weightedRecall\").evaluate(predictionDF)\n",
    "print(\"\\nrecall = \" + str(recall))\n",
    "\n",
    "precision = MulticlassClassificationEvaluator(metricName=\"weightedPrecision\").evaluate(predictionDF)\n",
    "print(\"\\nPrecision = \" + str(precision))  \n",
    "predictionDF.unpersist()"
   ]
  },
  {
   "cell_type": "code",
   "execution_count": 47,
   "metadata": {
    "collapsed": true
   },
   "outputs": [],
   "source": [
    "y_pred = np.array(predictionDF.select('prediction').collect())\n",
    "y_true = np.array(predictionDF.select('label').collect())"
   ]
  },
  {
   "cell_type": "code",
   "execution_count": 48,
   "metadata": {
    "scrolled": true
   },
   "outputs": [
    {
     "name": "stdout",
     "output_type": "stream",
     "text": [
      "The prediction accuracy is 99.85%\n"
     ]
    },
    {
     "data": {
      "image/png": "[encoded data removed]",
      "text/plain": [
       "<matplotlib.figure.Figure at 0x7fa5934a70d0>"
      ]
     },
     "metadata": {},
     "output_type": "display_data"
    }
   ],
   "source": [
    "acc = accuracy_score(y_true, y_pred)\n",
    "print(\"The prediction accuracy is %.2f%%\"%(acc*100))\n",
    "\n",
    "cm = confusion_matrix(y_true, y_pred)\n",
    "cm.shape\n",
    "df_cm = pd.DataFrame(cm)\n",
    "plt.figure(figsize = (10,8))\n",
    "sn.heatmap(df_cm, annot=True,fmt='d');"
   ]
  },
  {
   "cell_type": "code",
   "execution_count": null,
   "metadata": {
    "collapsed": true
   },
   "outputs": [],
   "source": []
  }
 ],
 "metadata": {
  "kernelspec": {
   "display_name": "Python 3",
   "language": "python",
   "name": "python3"
  },
  "language_info": {
   "codemirror_mode": {
    "name": "ipython",
    "version": 3
   },
   "file_extension": ".py",
   "mimetype": "text/x-python",
   "name": "python",
   "nbconvert_exporter": "python",
   "pygments_lexer": "ipython3",
   "version": "3.5.4"
  }
 },
 "nbformat": 4,
 "nbformat_minor": 2
}
